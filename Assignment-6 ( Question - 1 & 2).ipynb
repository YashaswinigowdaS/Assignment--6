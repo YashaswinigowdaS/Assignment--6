{
 "cells": [
  {
   "cell_type": "markdown",
   "id": "0ad562c4",
   "metadata": {},
   "source": [
    "# Assignment 1"
   ]
  },
  {
   "cell_type": "markdown",
   "id": "81ccb288",
   "metadata": {},
   "source": [
    "# 1. Create a JSON file (employee.json) containing employee information of minimum 5 employees. Each employee information consists of Name, DOB, Height, City, State. Write a python program that reads this information from the JSON file and saves the information into a list of objects of Employee class. Finally print the list of the Employee objects."
   ]
  },
  {
   "cell_type": "code",
   "execution_count": 5,
   "id": "17bc1f3f",
   "metadata": {},
   "outputs": [
    {
     "data": {
      "text/plain": [
       "{'Employees': [{'Name': 'YASHASWINI',\n",
       "   'DOB': '04/07/2001',\n",
       "   'Height': '5.4 Feet',\n",
       "   'City': 'Bangalore',\n",
       "   'State': 'Karnataka'},\n",
       "  {'Name': 'NITHYA',\n",
       "   'DOB': '10/06/2002',\n",
       "   'Height': '5 Feet',\n",
       "   'City': 'Pune',\n",
       "   'State': 'Maharashtra'},\n",
       "  {'Name': 'VAISHNAVI',\n",
       "   'DOB': '02/03/2001',\n",
       "   'Height': '5.1 Feet',\n",
       "   'City': 'Kolkata',\n",
       "   'State': 'West Bengal'},\n",
       "  {'Name': 'MANYA',\n",
       "   'DOB': '21/04/2002',\n",
       "   'Height': '4.6 Feet',\n",
       "   'City': 'Mumbai',\n",
       "   'State': 'Maharashtra'},\n",
       "  {'Name': 'JANANI',\n",
       "   'DOB': '07/04/2006',\n",
       "   'Height': '4.8 Feet',\n",
       "   'City': 'Delhi',\n",
       "   'State': 'Delhi NCR'}]}"
      ]
     },
     "execution_count": 5,
     "metadata": {},
     "output_type": "execute_result"
    }
   ],
   "source": [
    "{\n",
    "    \"Employees\": [\n",
    "        {\n",
    "            \"Name\": \"YASHASWINI\",\n",
    "            \"DOB\": \"04/07/2001\",\n",
    "            \"Height\": \"5.4 Feet\",\n",
    "            \"City\" : \"Bangalore\",\n",
    "            \"State\" : \"Karnataka\"\n",
    "  \n",
    "  \n",
    "          },\n",
    "          {\n",
    "              \"Name\": \"NITHYA\",\n",
    "              \"DOB\": \"10/06/2002\",\n",
    "              \"Height\": \"5 Feet\",\n",
    "              \"City\" : \"Pune\",\n",
    "              \"State\" : \"Maharashtra\"\n",
    "          },\n",
    "          {\n",
    "              \"Name\": \"VAISHNAVI\",\n",
    "              \"DOB\": \"02/03/2001\",\n",
    "              \"Height\": \"5.1 Feet\",\n",
    "              \"City\" : \"Kolkata\",\n",
    "              \"State\" : \"West Bengal\"\n",
    "          },\n",
    "          {\n",
    "              \"Name\": \"MANYA\",\n",
    "              \"DOB\": \"21/04/2002\",\n",
    "              \"Height\": \"4.6 Feet\",\n",
    "              \"City\" : \"Mumbai\",\n",
    "              \"State\" : \"Maharashtra\"\n",
    "          },\n",
    "          {\n",
    "              \"Name\": \"JANANI\",\n",
    "              \"DOB\": \"07/04/2006\",\n",
    "              \"Height\": \"4.8 Feet\",\n",
    "              \"City\" : \"Delhi\",\n",
    "              \"State\" : \"Delhi NCR\"\n",
    "          }\n",
    "    ]\n",
    "}"
   ]
  },
  {
   "cell_type": "code",
   "execution_count": 2,
   "id": "3a496b3d",
   "metadata": {},
   "outputs": [
    {
     "ename": "FileNotFoundError",
     "evalue": "[Errno 2] No such file or directory: 'employee.json.ipynb'",
     "output_type": "error",
     "traceback": [
      "\u001b[1;31m---------------------------------------------------------------------------\u001b[0m",
      "\u001b[1;31mFileNotFoundError\u001b[0m                         Traceback (most recent call last)",
      "Cell \u001b[1;32mIn[2], line 12\u001b[0m\n\u001b[0;32m      9\u001b[0m         \u001b[38;5;28mself\u001b[39m\u001b[38;5;241m.\u001b[39mstate \u001b[38;5;241m=\u001b[39m state\n\u001b[0;32m     11\u001b[0m \u001b[38;5;66;03m# Open a json file\u001b[39;00m\n\u001b[1;32m---> 12\u001b[0m \u001b[38;5;28;01mwith\u001b[39;00m \u001b[38;5;28;43mopen\u001b[39;49m\u001b[43m(\u001b[49m\u001b[38;5;124;43m'\u001b[39;49m\u001b[38;5;124;43memployee.json.ipynb\u001b[39;49m\u001b[38;5;124;43m'\u001b[39;49m\u001b[43m,\u001b[49m\u001b[38;5;124;43m'\u001b[39;49m\u001b[38;5;124;43mr\u001b[39;49m\u001b[38;5;124;43m'\u001b[39;49m\u001b[43m)\u001b[49m \u001b[38;5;28;01mas\u001b[39;00m file :\n\u001b[0;32m     13\u001b[0m     data \u001b[38;5;241m=\u001b[39m json\u001b[38;5;241m.\u001b[39mload(file)\n\u001b[0;32m     15\u001b[0m \u001b[38;5;66;03m# Create a list of Employee object from the dict\u001b[39;00m\n",
      "File \u001b[1;32m~\\AppData\\Local\\Programs\\Python\\Python311\\Lib\\site-packages\\IPython\\core\\interactiveshell.py:282\u001b[0m, in \u001b[0;36m_modified_open\u001b[1;34m(file, *args, **kwargs)\u001b[0m\n\u001b[0;32m    275\u001b[0m \u001b[38;5;28;01mif\u001b[39;00m file \u001b[38;5;129;01min\u001b[39;00m {\u001b[38;5;241m0\u001b[39m, \u001b[38;5;241m1\u001b[39m, \u001b[38;5;241m2\u001b[39m}:\n\u001b[0;32m    276\u001b[0m     \u001b[38;5;28;01mraise\u001b[39;00m \u001b[38;5;167;01mValueError\u001b[39;00m(\n\u001b[0;32m    277\u001b[0m         \u001b[38;5;124mf\u001b[39m\u001b[38;5;124m\"\u001b[39m\u001b[38;5;124mIPython won\u001b[39m\u001b[38;5;124m'\u001b[39m\u001b[38;5;124mt let you open fd=\u001b[39m\u001b[38;5;132;01m{\u001b[39;00mfile\u001b[38;5;132;01m}\u001b[39;00m\u001b[38;5;124m by default \u001b[39m\u001b[38;5;124m\"\u001b[39m\n\u001b[0;32m    278\u001b[0m         \u001b[38;5;124m\"\u001b[39m\u001b[38;5;124mas it is likely to crash IPython. If you know what you are doing, \u001b[39m\u001b[38;5;124m\"\u001b[39m\n\u001b[0;32m    279\u001b[0m         \u001b[38;5;124m\"\u001b[39m\u001b[38;5;124myou can use builtins\u001b[39m\u001b[38;5;124m'\u001b[39m\u001b[38;5;124m open.\u001b[39m\u001b[38;5;124m\"\u001b[39m\n\u001b[0;32m    280\u001b[0m     )\n\u001b[1;32m--> 282\u001b[0m \u001b[38;5;28;01mreturn\u001b[39;00m \u001b[43mio_open\u001b[49m\u001b[43m(\u001b[49m\u001b[43mfile\u001b[49m\u001b[43m,\u001b[49m\u001b[43m \u001b[49m\u001b[38;5;241;43m*\u001b[39;49m\u001b[43margs\u001b[49m\u001b[43m,\u001b[49m\u001b[43m \u001b[49m\u001b[38;5;241;43m*\u001b[39;49m\u001b[38;5;241;43m*\u001b[39;49m\u001b[43mkwargs\u001b[49m\u001b[43m)\u001b[49m\n",
      "\u001b[1;31mFileNotFoundError\u001b[0m: [Errno 2] No such file or directory: 'employee.json.ipynb'"
     ]
    }
   ],
   "source": [
    "import json\n",
    "\n",
    "class Employees:\n",
    "    def __init__(self,name,dob,height,city,state):\n",
    "        self.name = name\n",
    "        self.dob = dob\n",
    "        self.height = height\n",
    "        self.city = city\n",
    "        self.state = state\n",
    "\n",
    "# Open a json file\n",
    "with open('employee.json.ipynb','r') as file :\n",
    "    data = json.load(file)\n",
    "    \n",
    "# Create a list of Employee object from the dict\n",
    "employees = [Employees(e['Name'], e['DOB'], e['Height'], e['City'] , e['State']) for e in data['Employees']]\n",
    "\n",
    "# Printing the list\n",
    "for employee in employees:\n",
    "    print(employee.name, employee.dob, employee.height, employee.city, employee.state)"
   ]
  },
  {
   "cell_type": "markdown",
   "id": "bf73a34f",
   "metadata": {},
   "source": [
    "# 2. Create a dictionary of any 7 Indian states and their capitals. Write this into a JSON file."
   ]
  },
  {
   "cell_type": "code",
   "execution_count": 6,
   "id": "9071b05c",
   "metadata": {},
   "outputs": [],
   "source": [
    "import json\n",
    "\n",
    "# Data to be written\n",
    "State_Capital ={\n",
    "\"Andhra Pradesh\": \"Amaravati\",\"Goa\": \"Panaji\",\"Chattisghar\": \"Naya Raipur\",\"Assam\": \"Dispur\",\"West Bengal\" : \"Kolkata\",\"Maharastra\" : \"Mumbai\",\"Gujrat\" : \"Gandhinagar\"\n",
    "}\n",
    "#  Writing it in the JSONs file\n",
    "file = open(r\"state.json\",\"w\")\n",
    "json_object = json.dump(State_Capital,file)"
   ]
  },
  {
   "cell_type": "code",
   "execution_count": 7,
   "id": "d1ef52e1",
   "metadata": {},
   "outputs": [
    {
     "data": {
      "text/plain": [
       "{'Andhra Pradesh': 'Amaravati',\n",
       " 'Goa': 'Panaji',\n",
       " 'Chattisghar': 'Naya Raipur',\n",
       " 'Assam': 'Dispur',\n",
       " 'West Bengal': 'Kolkata',\n",
       " 'Maharastra': 'Mumbai',\n",
       " 'Gujrat': 'Gandhinagar'}"
      ]
     },
     "execution_count": 7,
     "metadata": {},
     "output_type": "execute_result"
    }
   ],
   "source": [
    "{\n",
    "\"Andhra Pradesh\": \"Amaravati\",\"Goa\": \"Panaji\",\"Chattisghar\": \"Naya Raipur\",\"Assam\": \"Dispur\",\"West Bengal\" : \"Kolkata\",\"Maharastra\" : \"Mumbai\",\"Gujrat\" : \"Gandhinagar\"\n",
    "}"
   ]
  },
  {
   "cell_type": "markdown",
   "id": "820c1e63",
   "metadata": {},
   "source": [
    "# Assignment 2\n",
    "#👉 1. Create a class named ‘Dog’. It should have a constructor which accepts its name, age and coat color. You must perform the following operations:\n",
    "\n",
    "🔴 a. It should have a function ‘description()’ which prints the name and age of the dog.\n",
    "🔴 b. It should have a function ‘get_info()’ which prints the coat color of the dog.\n",
    "🔴 c. Create child classes ‘JackRussellTerrier’ and ‘Bulldog’ which is inherited from the class ‘Dog’. It should have at least two methods of its own.\n",
    "🔴 d. Create objects and implement the above functionalities."
   ]
  },
  {
   "cell_type": "code",
   "execution_count": 13,
   "id": "f08df7ac",
   "metadata": {},
   "outputs": [
    {
     "name": "stdout",
     "output_type": "stream",
     "text": [
      "Name : Jackey \n",
      "Age : 1\n",
      "Coat Colour : White\n",
      "Owner : YASHASWINI\n",
      "Name : Jackey \n",
      "Age : 1\n",
      "Coat Colour : White\n",
      "Nick name : Jack\n"
     ]
    }
   ],
   "source": [
    "class Dog:\n",
    "    def __init__(self,name,age,coat_colour):\n",
    "        self.name = name\n",
    "        self.age =age\n",
    "        self.coat_colour = coat_colour\n",
    "    \n",
    "    def description(self):\n",
    "        print(f\"Name : {self.name} \\nAge : {self.age}\")\n",
    "\n",
    "    def get_info(self):\n",
    "        print(f\"Coat Colour : {self.coat_colour}\")\n",
    "\n",
    "class JackRussellTerrier(Dog):\n",
    "    def __init__(self,name,age,coat_colour,owner):\n",
    "        super().__init__(name,age,coat_colour)\n",
    "        self.owner =owner\n",
    "    \n",
    "    def display(self):\n",
    "        print(f\"Owner : {self.owner}\")\n",
    "\n",
    "class Bulldog(Dog):\n",
    "    def __init__(self,name,age,coat_colour,nickname):\n",
    "        super().__init__(name,age,coat_colour)\n",
    "        \n",
    "        self.nickname = nickname\n",
    "\n",
    "    def view(self):\n",
    "        print(f\"Nick name : {self.nickname}\")\n",
    "\n",
    "\n",
    "jackRussellTerrier = JackRussellTerrier(\"Jackey\",1,\"White\",\"YASHASWINI\")\n",
    "jackRussellTerrier.description()\n",
    "jackRussellTerrier.get_info()\n",
    "jackRussellTerrier.display()\n",
    "\n",
    "bull = Bulldog(\"Jackey\",1,\"White\",\"Jack\")\n",
    "bull.description()\n",
    "bull.get_info()\n",
    "bull.view()"
   ]
  },
  {
   "cell_type": "code",
   "execution_count": null,
   "id": "220a06be",
   "metadata": {},
   "outputs": [],
   "source": []
  }
 ],
 "metadata": {
  "kernelspec": {
   "display_name": "Python 3 (ipykernel)",
   "language": "python",
   "name": "python3"
  },
  "language_info": {
   "codemirror_mode": {
    "name": "ipython",
    "version": 3
   },
   "file_extension": ".py",
   "mimetype": "text/x-python",
   "name": "python",
   "nbconvert_exporter": "python",
   "pygments_lexer": "ipython3",
   "version": "3.11.0"
  }
 },
 "nbformat": 4,
 "nbformat_minor": 5
}
